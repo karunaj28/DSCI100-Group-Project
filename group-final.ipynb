{
 "cells": [
  {
   "cell_type": "code",
   "execution_count": 4,
   "id": "cb9f3758-326b-4f88-82ac-91b086fa0cfb",
   "metadata": {},
   "outputs": [],
   "source": [
    "library(tidyverse)\n",
    "library(tidymodels)\n",
    "library(repr)\n",
    "library(RColorBrewer)\n",
    "library(ggplot2)\n",
    "library(forcats)\n",
    "library(lubridate)\n",
    "options(repr.matrix.max.rows = 5)"
   ]
  },
  {
   "cell_type": "code",
   "execution_count": 5,
   "id": "c2eb453e-850a-4007-ae0a-9fda35a47bb9",
   "metadata": {},
   "outputs": [
    {
     "name": "stderr",
     "output_type": "stream",
     "text": [
      "\u001b[1mRows: \u001b[22m\u001b[34m196\u001b[39m \u001b[1mColumns: \u001b[22m\u001b[34m7\u001b[39m\n",
      "\u001b[36m──\u001b[39m \u001b[1mColumn specification\u001b[22m \u001b[36m────────────────────────────────────────────────────────\u001b[39m\n",
      "\u001b[1mDelimiter:\u001b[22m \",\"\n",
      "\u001b[31mchr\u001b[39m (4): experience, hashedEmail, name, gender\n",
      "\u001b[32mdbl\u001b[39m (2): played_hours, Age\n",
      "\u001b[33mlgl\u001b[39m (1): subscribe\n",
      "\n",
      "\u001b[36mℹ\u001b[39m Use `spec()` to retrieve the full column specification for this data.\n",
      "\u001b[36mℹ\u001b[39m Specify the column types or set `show_col_types = FALSE` to quiet this message.\n",
      "\u001b[1mRows: \u001b[22m\u001b[34m1535\u001b[39m \u001b[1mColumns: \u001b[22m\u001b[34m5\u001b[39m\n",
      "\u001b[36m──\u001b[39m \u001b[1mColumn specification\u001b[22m \u001b[36m────────────────────────────────────────────────────────\u001b[39m\n",
      "\u001b[1mDelimiter:\u001b[22m \",\"\n",
      "\u001b[31mchr\u001b[39m (3): hashedEmail, start_time, end_time\n",
      "\u001b[32mdbl\u001b[39m (2): original_start_time, original_end_time\n",
      "\n",
      "\u001b[36mℹ\u001b[39m Use `spec()` to retrieve the full column specification for this data.\n",
      "\u001b[36mℹ\u001b[39m Specify the column types or set `show_col_types = FALSE` to quiet this message.\n"
     ]
    },
    {
     "data": {
      "text/html": [
       "<table class=\"dataframe\">\n",
       "<caption>A tibble: 6 × 7</caption>\n",
       "<thead>\n",
       "\t<tr><th scope=col>experience</th><th scope=col>subscribe</th><th scope=col>hashedEmail</th><th scope=col>played_hours</th><th scope=col>name</th><th scope=col>gender</th><th scope=col>Age</th></tr>\n",
       "\t<tr><th scope=col>&lt;chr&gt;</th><th scope=col>&lt;lgl&gt;</th><th scope=col>&lt;chr&gt;</th><th scope=col>&lt;dbl&gt;</th><th scope=col>&lt;chr&gt;</th><th scope=col>&lt;chr&gt;</th><th scope=col>&lt;dbl&gt;</th></tr>\n",
       "</thead>\n",
       "<tbody>\n",
       "\t<tr><td>Pro    </td><td> TRUE</td><td>f6daba428a5e19a3d47574858c13550499be23603422e6a0ee9728f8b53e192d</td><td>30.3</td><td>Morgan   </td><td>Male</td><td> 9</td></tr>\n",
       "\t<tr><td>Veteran</td><td> TRUE</td><td>f3c813577c458ba0dfef80996f8f32c93b6e8af1fa939732842f2312358a88e9</td><td> 3.8</td><td>Christian</td><td>Male</td><td>17</td></tr>\n",
       "\t<tr><td>Veteran</td><td>FALSE</td><td>b674dd7ee0d24096d1c019615ce4d12b20fcbff12d79d3c5a9d2118eb7ccbb28</td><td> 0.0</td><td>Blake    </td><td>Male</td><td>17</td></tr>\n",
       "\t<tr><td>⋮</td><td>⋮</td><td>⋮</td><td>⋮</td><td>⋮</td><td>⋮</td><td>⋮</td></tr>\n",
       "\t<tr><td>Regular</td><td>TRUE</td><td>7dc01f10bf20671ecfccdac23812b1b415acd42c2147cb0af4d48fcce2420f3e</td><td>0.1</td><td>Kylie </td><td>Male  </td><td>21</td></tr>\n",
       "\t<tr><td>Amateur</td><td>TRUE</td><td>f58aad5996a435f16b0284a3b267f973f9af99e7a89bee0430055a44fa92f977</td><td>0.0</td><td>Adrian</td><td>Female</td><td>17</td></tr>\n",
       "</tbody>\n",
       "</table>\n"
      ],
      "text/latex": [
       "A tibble: 6 × 7\n",
       "\\begin{tabular}{lllllll}\n",
       " experience & subscribe & hashedEmail & played\\_hours & name & gender & Age\\\\\n",
       " <chr> & <lgl> & <chr> & <dbl> & <chr> & <chr> & <dbl>\\\\\n",
       "\\hline\n",
       "\t Pro     &  TRUE & f6daba428a5e19a3d47574858c13550499be23603422e6a0ee9728f8b53e192d & 30.3 & Morgan    & Male &  9\\\\\n",
       "\t Veteran &  TRUE & f3c813577c458ba0dfef80996f8f32c93b6e8af1fa939732842f2312358a88e9 &  3.8 & Christian & Male & 17\\\\\n",
       "\t Veteran & FALSE & b674dd7ee0d24096d1c019615ce4d12b20fcbff12d79d3c5a9d2118eb7ccbb28 &  0.0 & Blake     & Male & 17\\\\\n",
       "\t ⋮ & ⋮ & ⋮ & ⋮ & ⋮ & ⋮ & ⋮\\\\\n",
       "\t Regular & TRUE & 7dc01f10bf20671ecfccdac23812b1b415acd42c2147cb0af4d48fcce2420f3e & 0.1 & Kylie  & Male   & 21\\\\\n",
       "\t Amateur & TRUE & f58aad5996a435f16b0284a3b267f973f9af99e7a89bee0430055a44fa92f977 & 0.0 & Adrian & Female & 17\\\\\n",
       "\\end{tabular}\n"
      ],
      "text/markdown": [
       "\n",
       "A tibble: 6 × 7\n",
       "\n",
       "| experience &lt;chr&gt; | subscribe &lt;lgl&gt; | hashedEmail &lt;chr&gt; | played_hours &lt;dbl&gt; | name &lt;chr&gt; | gender &lt;chr&gt; | Age &lt;dbl&gt; |\n",
       "|---|---|---|---|---|---|---|\n",
       "| Pro     |  TRUE | f6daba428a5e19a3d47574858c13550499be23603422e6a0ee9728f8b53e192d | 30.3 | Morgan    | Male |  9 |\n",
       "| Veteran |  TRUE | f3c813577c458ba0dfef80996f8f32c93b6e8af1fa939732842f2312358a88e9 |  3.8 | Christian | Male | 17 |\n",
       "| Veteran | FALSE | b674dd7ee0d24096d1c019615ce4d12b20fcbff12d79d3c5a9d2118eb7ccbb28 |  0.0 | Blake     | Male | 17 |\n",
       "| ⋮ | ⋮ | ⋮ | ⋮ | ⋮ | ⋮ | ⋮ |\n",
       "| Regular | TRUE | 7dc01f10bf20671ecfccdac23812b1b415acd42c2147cb0af4d48fcce2420f3e | 0.1 | Kylie  | Male   | 21 |\n",
       "| Amateur | TRUE | f58aad5996a435f16b0284a3b267f973f9af99e7a89bee0430055a44fa92f977 | 0.0 | Adrian | Female | 17 |\n",
       "\n"
      ],
      "text/plain": [
       "  experience subscribe\n",
       "1 Pro         TRUE    \n",
       "2 Veteran     TRUE    \n",
       "3 Veteran    FALSE    \n",
       "⋮ ⋮          ⋮        \n",
       "5 Regular    TRUE     \n",
       "6 Amateur    TRUE     \n",
       "  hashedEmail                                                      played_hours\n",
       "1 f6daba428a5e19a3d47574858c13550499be23603422e6a0ee9728f8b53e192d 30.3        \n",
       "2 f3c813577c458ba0dfef80996f8f32c93b6e8af1fa939732842f2312358a88e9  3.8        \n",
       "3 b674dd7ee0d24096d1c019615ce4d12b20fcbff12d79d3c5a9d2118eb7ccbb28  0.0        \n",
       "⋮ ⋮                                                                ⋮           \n",
       "5 7dc01f10bf20671ecfccdac23812b1b415acd42c2147cb0af4d48fcce2420f3e 0.1         \n",
       "6 f58aad5996a435f16b0284a3b267f973f9af99e7a89bee0430055a44fa92f977 0.0         \n",
       "  name      gender Age\n",
       "1 Morgan    Male    9 \n",
       "2 Christian Male   17 \n",
       "3 Blake     Male   17 \n",
       "⋮ ⋮         ⋮      ⋮  \n",
       "5 Kylie     Male   21 \n",
       "6 Adrian    Female 17 "
      ]
     },
     "metadata": {},
     "output_type": "display_data"
    },
    {
     "data": {
      "text/html": [
       "<table class=\"dataframe\">\n",
       "<caption>A tibble: 6 × 5</caption>\n",
       "<thead>\n",
       "\t<tr><th scope=col>hashedEmail</th><th scope=col>start_time</th><th scope=col>end_time</th><th scope=col>original_start_time</th><th scope=col>original_end_time</th></tr>\n",
       "\t<tr><th scope=col>&lt;chr&gt;</th><th scope=col>&lt;chr&gt;</th><th scope=col>&lt;chr&gt;</th><th scope=col>&lt;dbl&gt;</th><th scope=col>&lt;dbl&gt;</th></tr>\n",
       "</thead>\n",
       "<tbody>\n",
       "\t<tr><td>bfce39c89d6549f2bb94d8064d3ce69dc3d7e72b38f431d8aa0c4bf95ccee6bf</td><td>30/06/2024 18:12</td><td>30/06/2024 18:24</td><td>1.71977e+12</td><td>1.71977e+12</td></tr>\n",
       "\t<tr><td>36d9cbb4c6bc0c1a6911436d2da0d09ec625e43e6552f575d4acc9cf487c4686</td><td>17/06/2024 23:33</td><td>17/06/2024 23:46</td><td>1.71867e+12</td><td>1.71867e+12</td></tr>\n",
       "\t<tr><td>f8f5477f5a2e53616ae37421b1c660b971192bd8ff77e3398304c7ae42581fdc</td><td>25/07/2024 17:34</td><td>25/07/2024 17:57</td><td>1.72193e+12</td><td>1.72193e+12</td></tr>\n",
       "\t<tr><td>⋮</td><td>⋮</td><td>⋮</td><td>⋮</td><td>⋮</td></tr>\n",
       "\t<tr><td>36d9cbb4c6bc0c1a6911436d2da0d09ec625e43e6552f575d4acc9cf487c4686</td><td>25/05/2024 16:01</td><td>25/05/2024 16:12</td><td>1.71665e+12</td><td>1.71665e+12</td></tr>\n",
       "\t<tr><td>bfce39c89d6549f2bb94d8064d3ce69dc3d7e72b38f431d8aa0c4bf95ccee6bf</td><td>23/06/2024 15:08</td><td>23/06/2024 17:10</td><td>1.71916e+12</td><td>1.71916e+12</td></tr>\n",
       "</tbody>\n",
       "</table>\n"
      ],
      "text/latex": [
       "A tibble: 6 × 5\n",
       "\\begin{tabular}{lllll}\n",
       " hashedEmail & start\\_time & end\\_time & original\\_start\\_time & original\\_end\\_time\\\\\n",
       " <chr> & <chr> & <chr> & <dbl> & <dbl>\\\\\n",
       "\\hline\n",
       "\t bfce39c89d6549f2bb94d8064d3ce69dc3d7e72b38f431d8aa0c4bf95ccee6bf & 30/06/2024 18:12 & 30/06/2024 18:24 & 1.71977e+12 & 1.71977e+12\\\\\n",
       "\t 36d9cbb4c6bc0c1a6911436d2da0d09ec625e43e6552f575d4acc9cf487c4686 & 17/06/2024 23:33 & 17/06/2024 23:46 & 1.71867e+12 & 1.71867e+12\\\\\n",
       "\t f8f5477f5a2e53616ae37421b1c660b971192bd8ff77e3398304c7ae42581fdc & 25/07/2024 17:34 & 25/07/2024 17:57 & 1.72193e+12 & 1.72193e+12\\\\\n",
       "\t ⋮ & ⋮ & ⋮ & ⋮ & ⋮\\\\\n",
       "\t 36d9cbb4c6bc0c1a6911436d2da0d09ec625e43e6552f575d4acc9cf487c4686 & 25/05/2024 16:01 & 25/05/2024 16:12 & 1.71665e+12 & 1.71665e+12\\\\\n",
       "\t bfce39c89d6549f2bb94d8064d3ce69dc3d7e72b38f431d8aa0c4bf95ccee6bf & 23/06/2024 15:08 & 23/06/2024 17:10 & 1.71916e+12 & 1.71916e+12\\\\\n",
       "\\end{tabular}\n"
      ],
      "text/markdown": [
       "\n",
       "A tibble: 6 × 5\n",
       "\n",
       "| hashedEmail &lt;chr&gt; | start_time &lt;chr&gt; | end_time &lt;chr&gt; | original_start_time &lt;dbl&gt; | original_end_time &lt;dbl&gt; |\n",
       "|---|---|---|---|---|\n",
       "| bfce39c89d6549f2bb94d8064d3ce69dc3d7e72b38f431d8aa0c4bf95ccee6bf | 30/06/2024 18:12 | 30/06/2024 18:24 | 1.71977e+12 | 1.71977e+12 |\n",
       "| 36d9cbb4c6bc0c1a6911436d2da0d09ec625e43e6552f575d4acc9cf487c4686 | 17/06/2024 23:33 | 17/06/2024 23:46 | 1.71867e+12 | 1.71867e+12 |\n",
       "| f8f5477f5a2e53616ae37421b1c660b971192bd8ff77e3398304c7ae42581fdc | 25/07/2024 17:34 | 25/07/2024 17:57 | 1.72193e+12 | 1.72193e+12 |\n",
       "| ⋮ | ⋮ | ⋮ | ⋮ | ⋮ |\n",
       "| 36d9cbb4c6bc0c1a6911436d2da0d09ec625e43e6552f575d4acc9cf487c4686 | 25/05/2024 16:01 | 25/05/2024 16:12 | 1.71665e+12 | 1.71665e+12 |\n",
       "| bfce39c89d6549f2bb94d8064d3ce69dc3d7e72b38f431d8aa0c4bf95ccee6bf | 23/06/2024 15:08 | 23/06/2024 17:10 | 1.71916e+12 | 1.71916e+12 |\n",
       "\n"
      ],
      "text/plain": [
       "  hashedEmail                                                     \n",
       "1 bfce39c89d6549f2bb94d8064d3ce69dc3d7e72b38f431d8aa0c4bf95ccee6bf\n",
       "2 36d9cbb4c6bc0c1a6911436d2da0d09ec625e43e6552f575d4acc9cf487c4686\n",
       "3 f8f5477f5a2e53616ae37421b1c660b971192bd8ff77e3398304c7ae42581fdc\n",
       "⋮ ⋮                                                               \n",
       "5 36d9cbb4c6bc0c1a6911436d2da0d09ec625e43e6552f575d4acc9cf487c4686\n",
       "6 bfce39c89d6549f2bb94d8064d3ce69dc3d7e72b38f431d8aa0c4bf95ccee6bf\n",
       "  start_time       end_time         original_start_time original_end_time\n",
       "1 30/06/2024 18:12 30/06/2024 18:24 1.71977e+12         1.71977e+12      \n",
       "2 17/06/2024 23:33 17/06/2024 23:46 1.71867e+12         1.71867e+12      \n",
       "3 25/07/2024 17:34 25/07/2024 17:57 1.72193e+12         1.72193e+12      \n",
       "⋮ ⋮                ⋮                ⋮                   ⋮                \n",
       "5 25/05/2024 16:01 25/05/2024 16:12 1.71665e+12         1.71665e+12      \n",
       "6 23/06/2024 15:08 23/06/2024 17:10 1.71916e+12         1.71916e+12      "
      ]
     },
     "metadata": {},
     "output_type": "display_data"
    }
   ],
   "source": [
    "# read datasets \n",
    "\n",
    "players <- read_csv(\"https://raw.githubusercontent.com/karunaj28/DSCI100-Group-Project/refs/heads/main/data/players.csv\")\n",
    "sessions <- read_csv(\"https://raw.githubusercontent.com/karunaj28/DSCI100-Group-Project/refs/heads/main/data/sessions.csv\")\n",
    "head(players)\n",
    "head(sessions)"
   ]
  }
 ],
 "metadata": {
  "kernelspec": {
   "display_name": "R",
   "language": "R",
   "name": "ir"
  },
  "language_info": {
   "codemirror_mode": "r",
   "file_extension": ".r",
   "mimetype": "text/x-r-source",
   "name": "R",
   "pygments_lexer": "r",
   "version": "4.3.3"
  }
 },
 "nbformat": 4,
 "nbformat_minor": 5
}
